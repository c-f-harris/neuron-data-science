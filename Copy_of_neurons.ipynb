{
  "nbformat": 4,
  "nbformat_minor": 0,
  "metadata": {
    "colab": {
      "name": "Copy of neurons.ipynb",
      "version": "0.3.2",
      "provenance": [],
      "include_colab_link": true
    },
    "kernelspec": {
      "display_name": "Python 3",
      "language": "python",
      "name": "python3"
    }
  },
  "cells": [
    {
      "cell_type": "markdown",
      "metadata": {
        "id": "view-in-github",
        "colab_type": "text"
      },
      "source": [
        "<a href=\"https://colab.research.google.com/github/c-f-harris/neuron-data-science/blob/master/Copy_of_neurons.ipynb\" target=\"_parent\"><img src=\"https://colab.research.google.com/assets/colab-badge.svg\" alt=\"Open In Colab\"/></a>"
      ]
    },
    {
      "metadata": {
        "id": "aIFisBaJ-lm5",
        "colab_type": "text"
      },
      "cell_type": "markdown",
      "source": [
        "# What are neurons?"
      ]
    },
    {
      "metadata": {
        "id": "K5e-vjus-lnC",
        "colab_type": "text"
      },
      "cell_type": "markdown",
      "source": [
        "## - More than you know, even if you are a neuroscience major!"
      ]
    },
    {
      "metadata": {
        "id": "uFJkz2yi-lnG",
        "colab_type": "code",
        "colab": {}
      },
      "cell_type": "code",
      "source": [
        "%matplotlib inline\n",
        "import matplotlib.pyplot as plt\n",
        "import numpy as np\n",
        "import scipy\n",
        "import pandas as pd\n",
        "import seaborn as sns\n",
        "sns.set(font_scale=1.5) # Nice big fonts\n",
        "import warnings\n",
        "warnings.filterwarnings(\"ignore\") # Turn off distracting warning messages that you don't need to see"
      ],
      "execution_count": 0,
      "outputs": []
    },
    {
      "metadata": {
        "id": "0vytVWvB-lnQ",
        "colab_type": "code",
        "outputId": "4abd15da-afeb-4756-b1b7-f408cb03aead",
        "colab": {
          "base_uri": "https://localhost:8080/",
          "height": 17
        }
      },
      "cell_type": "code",
      "source": [
        "# Make my dataframes big for slideshow mode\n",
        "from IPython.display import HTML\n",
        "HTML(\"\"\"<style>\n",
        "table.dataframe {\n",
        "font-size:150%;\n",
        "}\n",
        "</style>\"\"\")"
      ],
      "execution_count": 0,
      "outputs": [
        {
          "output_type": "execute_result",
          "data": {
            "text/html": [
              "<style>\n",
              "table.dataframe {\n",
              "font-size:150%;\n",
              "}\n",
              "</style>"
            ],
            "text/plain": [
              "<IPython.core.display.HTML object>"
            ]
          },
          "metadata": {
            "tags": []
          },
          "execution_count": 2
        }
      ]
    },
    {
      "metadata": {
        "id": "e4uu0TOQ-lna",
        "colab_type": "code",
        "outputId": "b1d84929-2d21-41bd-bbe7-86ffacf50b4b",
        "colab": {}
      },
      "cell_type": "code",
      "source": [
        "from IPython.display import YouTubeVideo\n",
        "YouTubeVideo(\"6qS83wD29PY\")"
      ],
      "execution_count": 0,
      "outputs": [
        {
          "output_type": "execute_result",
          "data": {
            "image/jpeg": "[encoded data removed]",
            "text/html": [
              "\n",
              "        <iframe\n",
              "            width=\"400\"\n",
              "            height=\"300\"\n",
              "            src=\"https://www.youtube.com/embed/6qS83wD29PY\"\n",
              "            frameborder=\"0\"\n",
              "            allowfullscreen\n",
              "        ></iframe>\n",
              "        "
            ],
            "text/plain": [
              "<IPython.lib.display.YouTubeVideo at 0x7f6b42731390>"
            ]
          },
          "metadata": {
            "tags": []
          },
          "execution_count": 3
        }
      ]
    },
    {
      "metadata": {
        "id": "who3ES7x-lnf",
        "colab_type": "text"
      },
      "cell_type": "markdown",
      "source": [
        "![resting potential](https://courses.washington.edu/conj/membpot/cellsionspsp.png) "
      ]
    },
    {
      "metadata": {
        "id": "orjTWWat-lni",
        "colab_type": "text"
      },
      "cell_type": "markdown",
      "source": [
        "![origin of membrane potential](https://images.tutorvista.com/cms/images/81/nernst-equation-membrane-potential.png)"
      ]
    },
    {
      "metadata": {
        "id": "Uv21E1ji-lnk",
        "colab_type": "text"
      },
      "cell_type": "markdown",
      "source": [
        "![myocyte concentrations](https://www.cvphysiology.com/Arrhythmias/A007%20membrane%20ions.gif) "
      ]
    },
    {
      "metadata": {
        "id": "e54_3Ghg-lnl",
        "colab_type": "text"
      },
      "cell_type": "markdown",
      "source": [
        "#### [Link for engineering-type people to learn more](https://www.scientifica.uk.com/learning-zone/understanding-the-cell-as-an-electrical-circuit)\n",
        "#### [Link for gunner premeds to USMLE study materials](https://www.yousmle.com/equilibrium-nernst-potential-for-the-usmle)"
      ]
    },
    {
      "metadata": {
        "id": "Zzx7Wk6c-lnm",
        "colab_type": "text"
      },
      "cell_type": "markdown",
      "source": [
        "## What is an action potential?"
      ]
    },
    {
      "metadata": {
        "id": "EkttfVbB-lnp",
        "colab_type": "code",
        "outputId": "20f4fd98-4202-4ef5-c72c-5f1d5dfc4f55",
        "colab": {}
      },
      "cell_type": "code",
      "source": [
        "YouTubeVideo(\"W2hHt_PXe5o\")"
      ],
      "execution_count": 0,
      "outputs": [
        {
          "output_type": "execute_result",
          "data": {
            "image/jpeg": "[encoded data removed]",
            "text/html": [
              "\n",
              "        <iframe\n",
              "            width=\"400\"\n",
              "            height=\"300\"\n",
              "            src=\"https://www.youtube.com/embed/W2hHt_PXe5o\"\n",
              "            frameborder=\"0\"\n",
              "            allowfullscreen\n",
              "        ></iframe>\n",
              "        "
            ],
            "text/plain": [
              "<IPython.lib.display.YouTubeVideo at 0x7f6b1d55aac8>"
            ]
          },
          "metadata": {
            "tags": []
          },
          "execution_count": 4
        }
      ]
    },
    {
      "metadata": {
        "id": "SGWd5JAJ-lnx",
        "colab_type": "text"
      },
      "cell_type": "markdown",
      "source": [
        "### [Quick simulation demo of how these variables change over time](https://live.geppetto.org/geppetto?load_project_from_id=1)"
      ]
    },
    {
      "metadata": {
        "id": "QwvD4lTg-ln0",
        "colab_type": "text"
      },
      "cell_type": "markdown",
      "source": [
        "## [The Allen Institute and their data](http://portal.brain-map.org)"
      ]
    },
    {
      "metadata": {
        "id": "6hqPIUl8-ln3",
        "colab_type": "code",
        "outputId": "19e7e6e5-20d5-4790-a101-eefdb4b76314",
        "colab": {
          "base_uri": "https://localhost:8080/",
          "height": 1293
        }
      },
      "cell_type": "code",
      "source": [
        "# Install the Allen Institute API.  An API is programming module for interacting with a particular kind of program or dataset\n",
        "!pip install allensdk"
      ],
      "execution_count": 0,
      "outputs": [
        {
          "output_type": "stream",
          "text": [
            "Collecting allensdk\n",
            "\u001b[?25l  Downloading https://files.pythonhosted.org/packages/63/e7/f822362bf75db899cae14877f394f37894cdda85ed7734df9597f334dc75/allensdk-0.16.0.tar.bz2 (416kB)\n",
            "\u001b[K    100% |████████████████████████████████| 419kB 14.0MB/s \n",
            "\u001b[?25hRequirement already satisfied: h5py>=2.3.1 in /usr/local/lib/python3.6/dist-packages (from allensdk) (2.8.0)\n",
            "Requirement already satisfied: matplotlib>=1.4.3 in /usr/local/lib/python3.6/dist-packages (from allensdk) (3.0.2)\n",
            "Requirement already satisfied: numpy>=1.12.1 in /usr/local/lib/python3.6/dist-packages (from allensdk) (1.14.6)\n",
            "Requirement already satisfied: pandas>=0.17.0 in /usr/local/lib/python3.6/dist-packages (from allensdk) (0.22.0)\n",
            "Requirement already satisfied: jinja2>=2.7.3 in /usr/local/lib/python3.6/dist-packages (from allensdk) (2.10)\n",
            "Requirement already satisfied: scipy>=0.15.1 in /usr/local/lib/python3.6/dist-packages (from allensdk) (1.1.0)\n",
            "Requirement already satisfied: six>=1.9.0 in /usr/local/lib/python3.6/dist-packages (from allensdk) (1.11.0)\n",
            "Collecting pynrrd>=0.2.1 (from allensdk)\n",
            "  Downloading https://files.pythonhosted.org/packages/26/47/1bbb9db574f920a960cf3121e9333ed9c670d946dd89fb6528dae6818494/pynrrd-0.3.5-py2.py3-none-any.whl\n",
            "Requirement already satisfied: future>=0.14.3 in /usr/local/lib/python3.6/dist-packages (from allensdk) (0.16.0)\n",
            "Requirement already satisfied: requests in /usr/local/lib/python3.6/dist-packages (from allensdk) (2.18.4)\n",
            "Collecting requests-toolbelt (from allensdk)\n",
            "\u001b[?25l  Downloading https://files.pythonhosted.org/packages/97/8a/d710f792d6f6ecc089c5e55b66e66c3f2f35516a1ede5a8f54c13350ffb0/requests_toolbelt-0.8.0-py2.py3-none-any.whl (54kB)\n",
            "\u001b[K    100% |████████████████████████████████| 61kB 24.1MB/s \n",
            "\u001b[?25hCollecting simplejson>=3.10.0 (from allensdk)\n",
            "\u001b[?25l  Downloading https://files.pythonhosted.org/packages/e3/24/c35fb1c1c315fc0fffe61ea00d3f88e85469004713dab488dee4f35b0aff/simplejson-3.16.0.tar.gz (81kB)\n",
            "\u001b[K    100% |████████████████████████████████| 81kB 29.6MB/s \n",
            "\u001b[?25hCollecting scikit-image>=0.14.0 (from allensdk)\n",
            "\u001b[?25l  Downloading https://files.pythonhosted.org/packages/24/06/d560630eb9e36d90d69fe57d9ff762d8f501664ce478b8a0ae132b3c3008/scikit_image-0.14.2-cp36-cp36m-manylinux1_x86_64.whl (25.3MB)\n",
            "\u001b[K    100% |████████████████████████████████| 25.3MB 1.5MB/s \n",
            "\u001b[?25hRequirement already satisfied: statsmodels>=0.8.0 in /usr/local/lib/python3.6/dist-packages (from allensdk) (0.8.0)\n",
            "Collecting simpleitk (from allensdk)\n",
            "\u001b[?25l  Downloading https://files.pythonhosted.org/packages/45/ee/8ddd251cf447e1fc131622e925d538c2542780195ae75e26c122587630d1/SimpleITK-1.2.0-cp36-cp36m-manylinux1_x86_64.whl (42.5MB)\n",
            "\u001b[K    100% |████████████████████████████████| 42.5MB 372kB/s \n",
            "\u001b[?25hRequirement already satisfied: tables in /usr/local/lib/python3.6/dist-packages (from allensdk) (3.4.4)\n",
            "Requirement already satisfied: kiwisolver>=1.0.1 in /usr/local/lib/python3.6/dist-packages (from matplotlib>=1.4.3->allensdk) (1.0.1)\n",
            "Requirement already satisfied: cycler>=0.10 in /usr/local/lib/python3.6/dist-packages (from matplotlib>=1.4.3->allensdk) (0.10.0)\n",
            "Requirement already satisfied: python-dateutil>=2.1 in /usr/local/lib/python3.6/dist-packages (from matplotlib>=1.4.3->allensdk) (2.5.3)\n",
            "Requirement already satisfied: pyparsing!=2.0.4,!=2.1.2,!=2.1.6,>=2.0.1 in /usr/local/lib/python3.6/dist-packages (from matplotlib>=1.4.3->allensdk) (2.3.1)\n",
            "Requirement already satisfied: pytz>=2011k in /usr/local/lib/python3.6/dist-packages (from pandas>=0.17.0->allensdk) (2018.9)\n",
            "Requirement already satisfied: MarkupSafe>=0.23 in /usr/local/lib/python3.6/dist-packages (from jinja2>=2.7.3->allensdk) (1.1.0)\n",
            "Requirement already satisfied: idna<2.7,>=2.5 in /usr/local/lib/python3.6/dist-packages (from requests->allensdk) (2.6)\n",
            "Requirement already satisfied: chardet<3.1.0,>=3.0.2 in /usr/local/lib/python3.6/dist-packages (from requests->allensdk) (3.0.4)\n",
            "Requirement already satisfied: certifi>=2017.4.17 in /usr/local/lib/python3.6/dist-packages (from requests->allensdk) (2018.11.29)\n",
            "Requirement already satisfied: urllib3<1.23,>=1.21.1 in /usr/local/lib/python3.6/dist-packages (from requests->allensdk) (1.22)\n",
            "Requirement already satisfied: cloudpickle>=0.2.1 in /usr/local/lib/python3.6/dist-packages (from scikit-image>=0.14.0->allensdk) (0.6.1)\n",
            "Collecting dask[array]>=1.0.0 (from scikit-image>=0.14.0->allensdk)\n",
            "\u001b[?25l  Downloading https://files.pythonhosted.org/packages/b1/96/bce48a61f6d84f5db6dc4febb4be96009c95d6bdfc67e08cc55f644ae36b/dask-1.1.0-py2.py3-none-any.whl (699kB)\n",
            "\u001b[K    100% |████████████████████████████████| 706kB 16.5MB/s \n",
            "\u001b[?25hCollecting pillow>=4.3.0 (from scikit-image>=0.14.0->allensdk)\n",
            "\u001b[?25l  Downloading https://files.pythonhosted.org/packages/85/5e/e91792f198bbc5a0d7d3055ad552bc4062942d27eaf75c3e2783cf64eae5/Pillow-5.4.1-cp36-cp36m-manylinux1_x86_64.whl (2.0MB)\n",
            "\u001b[K    100% |████████████████████████████████| 2.0MB 10.9MB/s \n",
            "\u001b[?25hRequirement already satisfied: PyWavelets>=0.4.0 in /usr/local/lib/python3.6/dist-packages (from scikit-image>=0.14.0->allensdk) (1.0.1)\n",
            "Requirement already satisfied: networkx>=1.8 in /usr/local/lib/python3.6/dist-packages (from scikit-image>=0.14.0->allensdk) (2.2)\n",
            "Requirement already satisfied: patsy in /usr/local/lib/python3.6/dist-packages (from statsmodels>=0.8.0->allensdk) (0.5.1)\n",
            "Requirement already satisfied: numexpr>=2.5.2 in /usr/local/lib/python3.6/dist-packages (from tables->allensdk) (2.6.9)\n",
            "Requirement already satisfied: setuptools in /usr/local/lib/python3.6/dist-packages (from kiwisolver>=1.0.1->matplotlib>=1.4.3->allensdk) (40.6.3)\n",
            "Requirement already satisfied: toolz>=0.7.3; extra == \"array\" in /usr/local/lib/python3.6/dist-packages (from dask[array]>=1.0.0->scikit-image>=0.14.0->allensdk) (0.9.0)\n",
            "Requirement already satisfied: decorator>=4.3.0 in /usr/local/lib/python3.6/dist-packages (from networkx>=1.8->scikit-image>=0.14.0->allensdk) (4.3.0)\n",
            "Building wheels for collected packages: allensdk, simplejson\n",
            "  Running setup.py bdist_wheel for allensdk ... \u001b[?25l-\b \b\\\b \bdone\n",
            "\u001b[?25h  Stored in directory: /root/.cache/pip/wheels/cd/51/6d/53df550e53242084cb8fbbf8752529fe67514a8d133b838b94\n",
            "  Running setup.py bdist_wheel for simplejson ... \u001b[?25l-\b \b\\\b \b|\b \bdone\n",
            "\u001b[?25h  Stored in directory: /root/.cache/pip/wheels/5d/1a/1e/0350bb3df3e74215cd91325344cc86c2c691f5306eb4d22c77\n",
            "Successfully built allensdk simplejson\n",
            "\u001b[31mfeaturetools 0.4.1 has requirement pandas>=0.23.0, but you'll have pandas 0.22.0 which is incompatible.\u001b[0m\n",
            "Installing collected packages: pynrrd, requests-toolbelt, simplejson, dask, pillow, scikit-image, simpleitk, allensdk\n",
            "  Found existing installation: dask 0.20.2\n",
            "    Uninstalling dask-0.20.2:\n",
            "      Successfully uninstalled dask-0.20.2\n",
            "  Found existing installation: Pillow 4.0.0\n",
            "    Uninstalling Pillow-4.0.0:\n",
            "      Successfully uninstalled Pillow-4.0.0\n",
            "  Found existing installation: scikit-image 0.13.1\n",
            "    Uninstalling scikit-image-0.13.1:\n",
            "      Successfully uninstalled scikit-image-0.13.1\n",
            "Successfully installed allensdk-0.16.0 dask-1.1.0 pillow-5.4.1 pynrrd-0.3.5 requests-toolbelt-0.8.0 scikit-image-0.14.2 simpleitk-1.2.0 simplejson-3.16.0\n",
            "\u001b[0;31;1mWARNING: The following packages were previously imported in this runtime:\n",
            "  [PIL]\n",
            "You must restart the runtime in order to use newly installed versions.\u001b[0m\n"
          ],
          "name": "stdout"
        }
      ]
    },
    {
      "metadata": {
        "id": "EtF3ZUEe-loB",
        "colab_type": "code",
        "outputId": "4e0ff598-d2a7-4879-89ce-b1458ae3564f",
        "colab": {
          "base_uri": "https://localhost:8080/",
          "height": 54
        }
      },
      "cell_type": "code",
      "source": [
        "# Load a file downloader to get data from The Allen Institute\n",
        "from allensdk.core.cell_types_cache import CellTypesCache \n",
        "\n",
        "# Create an instance of that file downloader\n",
        "ctc = CellTypesCache(manifest_file='cell_types/manifest.json') \n",
        "\n",
        "# An example of a dataset id (the last part of the URL in e.g. http://celltypes.brain-map.org/experiment/electrophysiology/643625553)\n",
        "dataset_id = 643625553 \n",
        "\n",
        "# Get information and data for that dataset\n",
        "parameters = ctc.get_ephys_sweeps(dataset_id)\n",
        "recordings = ctc.get_ephys_data(dataset_id)\n",
        "\n"
      ],
      "execution_count": 0,
      "outputs": [
        {
          "output_type": "stream",
          "text": [
            "2019-01-23 18:32:06,412 allensdk.api.api.retrieve_file_over_http INFO     Downloading URL: http://api.brain-map.org/api/v2/well_known_file_download/742807087\n"
          ],
          "name": "stderr"
        }
      ]
    },
    {
      "metadata": {
        "id": "aW4yEfaa-loJ",
        "colab_type": "text"
      },
      "cell_type": "markdown",
      "source": [
        "### Pick one of the many \"sweeps\" (short parts of experiments) performed on this cell"
      ]
    },
    {
      "metadata": {
        "id": "3eYvq_jI-loM",
        "colab_type": "code",
        "outputId": "1a1db9de-fedc-42b5-e690-d85d9fa2f33d",
        "colab": {
          "base_uri": "https://localhost:8080/",
          "height": 120
        }
      },
      "cell_type": "code",
      "source": [
        "my_sweep_number = 37\n",
        "my_sweep = recordings.get_sweep(my_sweep_number) # I randomly picked sweep 37\n",
        "my_sweep"
      ],
      "execution_count": 0,
      "outputs": [
        {
          "output_type": "execute_result",
          "data": {
            "text/plain": [
              "{'index_range': (37500, 400999),\n",
              " 'response': array([-0.07300001, -0.07300001, -0.07300001, ..., -0.07371876,\n",
              "        -0.07371876, -0.0736875 ], dtype=float32),\n",
              " 'sampling_rate': 50000.0,\n",
              " 'stimulus': array([0., 0., 0., ..., 0., 0., 0.], dtype=float32),\n",
              " 'stimulus_unit': 'Amps'}"
            ]
          },
          "metadata": {
            "tags": []
          },
          "execution_count": 6
        }
      ]
    },
    {
      "metadata": {
        "id": "Du_l2Ywa-loW",
        "colab_type": "text"
      },
      "cell_type": "markdown",
      "source": [
        "### Lets get our units right"
      ]
    },
    {
      "metadata": {
        "id": "x5692TYt-loZ",
        "colab_type": "code",
        "outputId": "e47e029f-4aa3-43f6-96dc-1863eb157b24",
        "colab": {
          "base_uri": "https://localhost:8080/",
          "height": 192
        }
      },
      "cell_type": "code",
      "source": [
        "!pip install quantities"
      ],
      "execution_count": 0,
      "outputs": [
        {
          "output_type": "stream",
          "text": [
            "Collecting quantities\n",
            "\u001b[?25l  Downloading https://files.pythonhosted.org/packages/7e/dd/58ef3546e4894dbe4cefcfe390301f581085a6e283c95a6aea0aa02c5f7b/quantities-0.12.2.tar.gz (82kB)\n",
            "\u001b[K    100% |████████████████████████████████| 92kB 5.7MB/s \n",
            "\u001b[?25hBuilding wheels for collected packages: quantities\n",
            "  Running setup.py bdist_wheel for quantities ... \u001b[?25l-\b \bdone\n",
            "\u001b[?25h  Stored in directory: /root/.cache/pip/wheels/5d/2c/59/c76abff4849f919979712e0471e6e0d92f710ffcb63629913b\n",
            "Successfully built quantities\n",
            "Installing collected packages: quantities\n",
            "Successfully installed quantities-0.12.2\n"
          ],
          "name": "stdout"
        }
      ]
    },
    {
      "metadata": {
        "id": "Xcww4Ruh-loj",
        "colab_type": "code",
        "outputId": "faa02217-d832-4a95-a31f-e483018cf629",
        "colab": {
          "base_uri": "https://localhost:8080/",
          "height": 34
        }
      },
      "cell_type": "code",
      "source": [
        "# Note on units\n",
        "from quantities import s, ms, V, mV, A, pA\n",
        "1000*ms == 1*s"
      ],
      "execution_count": 0,
      "outputs": [
        {
          "output_type": "execute_result",
          "data": {
            "text/plain": [
              "True"
            ]
          },
          "metadata": {
            "tags": []
          },
          "execution_count": 13
        }
      ]
    },
    {
      "metadata": {
        "id": "9dna6YQI-lot",
        "colab_type": "code",
        "colab": {}
      },
      "cell_type": "code",
      "source": [
        "# What is the time interval between samples (measurements) in each of these sweeps?\n",
        "dt = s/my_sweep['sampling_rate']\n",
        "\n",
        "# How many samples in each of these sweeps?  \n",
        "n_samples = len(my_sweep['stimulus'])\n",
        "\n",
        "# Determine the time (relative to the start of the sweep) for each of these samples.  \n",
        "times = range(n_samples) * dt\n"
      ],
      "execution_count": 0,
      "outputs": []
    },
    {
      "metadata": {
        "id": "JMLRtr2V-lo3",
        "colab_type": "text"
      },
      "cell_type": "markdown",
      "source": [
        "### Put it in a dataframe for further use"
      ]
    },
    {
      "metadata": {
        "id": "HgS-VYpJ-lo7",
        "colab_type": "code",
        "outputId": "eaa460f3-a9e4-4e0e-d9b5-32a6df46f432",
        "colab": {
          "base_uri": "https://localhost:8080/",
          "height": 203
        }
      },
      "cell_type": "code",
      "source": [
        "# Create an empty dataframe to hold the data\n",
        "df = pd.DataFrame(index=times, columns=['stimulus', 'response'])\n",
        "df.head()"
      ],
      "execution_count": 0,
      "outputs": [
        {
          "output_type": "execute_result",
          "data": {
            "text/html": [
              "<div>\n",
              "<style scoped>\n",
              "    .dataframe tbody tr th:only-of-type {\n",
              "        vertical-align: middle;\n",
              "    }\n",
              "\n",
              "    .dataframe tbody tr th {\n",
              "        vertical-align: top;\n",
              "    }\n",
              "\n",
              "    .dataframe thead th {\n",
              "        text-align: right;\n",
              "    }\n",
              "</style>\n",
              "<table border=\"1\" class=\"dataframe\">\n",
              "  <thead>\n",
              "    <tr style=\"text-align: right;\">\n",
              "      <th></th>\n",
              "      <th>stimulus</th>\n",
              "      <th>response</th>\n",
              "    </tr>\n",
              "  </thead>\n",
              "  <tbody>\n",
              "    <tr>\n",
              "      <th>0.00000</th>\n",
              "      <td>NaN</td>\n",
              "      <td>NaN</td>\n",
              "    </tr>\n",
              "    <tr>\n",
              "      <th>0.00002</th>\n",
              "      <td>NaN</td>\n",
              "      <td>NaN</td>\n",
              "    </tr>\n",
              "    <tr>\n",
              "      <th>0.00004</th>\n",
              "      <td>NaN</td>\n",
              "      <td>NaN</td>\n",
              "    </tr>\n",
              "    <tr>\n",
              "      <th>0.00006</th>\n",
              "      <td>NaN</td>\n",
              "      <td>NaN</td>\n",
              "    </tr>\n",
              "    <tr>\n",
              "      <th>0.00008</th>\n",
              "      <td>NaN</td>\n",
              "      <td>NaN</td>\n",
              "    </tr>\n",
              "  </tbody>\n",
              "</table>\n",
              "</div>"
            ],
            "text/plain": [
              "        stimulus response\n",
              "0.00000      NaN      NaN\n",
              "0.00002      NaN      NaN\n",
              "0.00004      NaN      NaN\n",
              "0.00006      NaN      NaN\n",
              "0.00008      NaN      NaN"
            ]
          },
          "metadata": {
            "tags": []
          },
          "execution_count": 19
        }
      ]
    },
    {
      "metadata": {
        "id": "9qaBtL0N-lpI",
        "colab_type": "code",
        "outputId": "75d3f556-b43d-4e39-88b9-07e30152de61",
        "colab": {
          "base_uri": "https://localhost:8080/",
          "height": 665
        }
      },
      "cell_type": "code",
      "source": [
        "# Fill the dataframe with the data from our chosen sweep.  Get the units right\n",
        "df['stimulus'] = (my_sweep['stimulus'] * A).rescale('pA')\n",
        "df['response'] = (my_sweep['response'] * V).rescale('mV').round(4)\n",
        "df.head(20)"
      ],
      "execution_count": 0,
      "outputs": [
        {
          "output_type": "execute_result",
          "data": {
            "text/html": [
              "<div>\n",
              "<style scoped>\n",
              "    .dataframe tbody tr th:only-of-type {\n",
              "        vertical-align: middle;\n",
              "    }\n",
              "\n",
              "    .dataframe tbody tr th {\n",
              "        vertical-align: top;\n",
              "    }\n",
              "\n",
              "    .dataframe thead th {\n",
              "        text-align: right;\n",
              "    }\n",
              "</style>\n",
              "<table border=\"1\" class=\"dataframe\">\n",
              "  <thead>\n",
              "    <tr style=\"text-align: right;\">\n",
              "      <th></th>\n",
              "      <th>stimulus</th>\n",
              "      <th>response</th>\n",
              "    </tr>\n",
              "  </thead>\n",
              "  <tbody>\n",
              "    <tr>\n",
              "      <th>0.00000</th>\n",
              "      <td>0.0</td>\n",
              "      <td>-73.000000</td>\n",
              "    </tr>\n",
              "    <tr>\n",
              "      <th>0.00002</th>\n",
              "      <td>0.0</td>\n",
              "      <td>-73.000000</td>\n",
              "    </tr>\n",
              "    <tr>\n",
              "      <th>0.00004</th>\n",
              "      <td>0.0</td>\n",
              "      <td>-73.000000</td>\n",
              "    </tr>\n",
              "    <tr>\n",
              "      <th>0.00006</th>\n",
              "      <td>0.0</td>\n",
              "      <td>-73.000000</td>\n",
              "    </tr>\n",
              "    <tr>\n",
              "      <th>0.00008</th>\n",
              "      <td>0.0</td>\n",
              "      <td>-73.000000</td>\n",
              "    </tr>\n",
              "    <tr>\n",
              "      <th>0.00010</th>\n",
              "      <td>0.0</td>\n",
              "      <td>-73.031303</td>\n",
              "    </tr>\n",
              "    <tr>\n",
              "      <th>0.00012</th>\n",
              "      <td>0.0</td>\n",
              "      <td>-73.000000</td>\n",
              "    </tr>\n",
              "    <tr>\n",
              "      <th>0.00014</th>\n",
              "      <td>0.0</td>\n",
              "      <td>-72.968803</td>\n",
              "    </tr>\n",
              "    <tr>\n",
              "      <th>0.00016</th>\n",
              "      <td>0.0</td>\n",
              "      <td>-73.031303</td>\n",
              "    </tr>\n",
              "    <tr>\n",
              "      <th>0.00018</th>\n",
              "      <td>0.0</td>\n",
              "      <td>-73.031303</td>\n",
              "    </tr>\n",
              "    <tr>\n",
              "      <th>0.00020</th>\n",
              "      <td>0.0</td>\n",
              "      <td>-73.031303</td>\n",
              "    </tr>\n",
              "    <tr>\n",
              "      <th>0.00022</th>\n",
              "      <td>0.0</td>\n",
              "      <td>-73.031303</td>\n",
              "    </tr>\n",
              "    <tr>\n",
              "      <th>0.00024</th>\n",
              "      <td>0.0</td>\n",
              "      <td>-73.000000</td>\n",
              "    </tr>\n",
              "    <tr>\n",
              "      <th>0.00026</th>\n",
              "      <td>0.0</td>\n",
              "      <td>-73.000000</td>\n",
              "    </tr>\n",
              "    <tr>\n",
              "      <th>0.00028</th>\n",
              "      <td>0.0</td>\n",
              "      <td>-73.000000</td>\n",
              "    </tr>\n",
              "    <tr>\n",
              "      <th>0.00030</th>\n",
              "      <td>0.0</td>\n",
              "      <td>-73.000000</td>\n",
              "    </tr>\n",
              "    <tr>\n",
              "      <th>0.00032</th>\n",
              "      <td>0.0</td>\n",
              "      <td>-72.968803</td>\n",
              "    </tr>\n",
              "    <tr>\n",
              "      <th>0.00034</th>\n",
              "      <td>0.0</td>\n",
              "      <td>-72.968803</td>\n",
              "    </tr>\n",
              "    <tr>\n",
              "      <th>0.00036</th>\n",
              "      <td>0.0</td>\n",
              "      <td>-73.000000</td>\n",
              "    </tr>\n",
              "    <tr>\n",
              "      <th>0.00038</th>\n",
              "      <td>0.0</td>\n",
              "      <td>-72.937500</td>\n",
              "    </tr>\n",
              "  </tbody>\n",
              "</table>\n",
              "</div>"
            ],
            "text/plain": [
              "         stimulus   response\n",
              "0.00000       0.0 -73.000000\n",
              "0.00002       0.0 -73.000000\n",
              "0.00004       0.0 -73.000000\n",
              "0.00006       0.0 -73.000000\n",
              "0.00008       0.0 -73.000000\n",
              "0.00010       0.0 -73.031303\n",
              "0.00012       0.0 -73.000000\n",
              "0.00014       0.0 -72.968803\n",
              "0.00016       0.0 -73.031303\n",
              "0.00018       0.0 -73.031303\n",
              "0.00020       0.0 -73.031303\n",
              "0.00022       0.0 -73.031303\n",
              "0.00024       0.0 -73.000000\n",
              "0.00026       0.0 -73.000000\n",
              "0.00028       0.0 -73.000000\n",
              "0.00030       0.0 -73.000000\n",
              "0.00032       0.0 -72.968803\n",
              "0.00034       0.0 -72.968803\n",
              "0.00036       0.0 -73.000000\n",
              "0.00038       0.0 -72.937500"
            ]
          },
          "metadata": {
            "tags": []
          },
          "execution_count": 22
        }
      ]
    },
    {
      "metadata": {
        "id": "gmAZHovp-lpR",
        "colab_type": "text"
      },
      "cell_type": "markdown",
      "source": [
        "### Let's look at the data"
      ]
    },
    {
      "metadata": {
        "id": "2Fibup05-lpS",
        "colab_type": "code",
        "outputId": "19cc4f1c-0902-4d4f-df2f-f91f49cf123a",
        "colab": {
          "base_uri": "https://localhost:8080/",
          "height": 723
        }
      },
      "cell_type": "code",
      "source": [
        "# Plot the time course of the stimulus (the current injected into the cell)\n",
        "df.plot(y='stimulus')\n",
        "plt.xlabel('Time (s)')\n",
        "plt.ylabel('Input Current (pA)');\n",
        "\n",
        "# Plot the time course of the response \n",
        "# (the change in the membrane potential, including action potentials, that results)\n",
        "df.plot(y='response')\n",
        "plt.xlabel('Time (s)')\n",
        "plt.ylabel('Membrane Potential (mV)');"
      ],
      "execution_count": 0,
      "outputs": [
        {
          "output_type": "display_data",
          "data": {
            "image/png": "[encoded data removed]",
            "text/plain": [
              "<Figure size 576x396 with 1 Axes>"
            ]
          },
          "metadata": {
            "tags": []
          }
        },
        {
          "output_type": "display_data",
          "data": {
            "image/png": "[encoded data removed]",
            "text/plain": [
              "<Figure size 576x396 with 1 Axes>"
            ]
          },
          "metadata": {
            "tags": []
          }
        }
      ]
    },
    {
      "metadata": {
        "id": "GjI-tLGU-lpX",
        "colab_type": "text"
      },
      "cell_type": "markdown",
      "source": [
        "### Make the figure wider and zoom in to the interesting part"
      ]
    },
    {
      "metadata": {
        "id": "Vn349a4q-lpY",
        "colab_type": "code",
        "outputId": "e92647dd-5996-471c-8ba0-c865cf96cb39",
        "colab": {
          "base_uri": "https://localhost:8080/",
          "height": 247
        }
      },
      "cell_type": "code",
      "source": [
        "df.plot(y='response', figsize=(15,3))\n",
        "plt.xlabel('Time (s)')\n",
        "plt.ylabel('Membrane Potential (mV)');\n",
        "plt.xlim(0.5,2.5);"
      ],
      "execution_count": 0,
      "outputs": [
        {
          "output_type": "display_data",
          "data": {
            "image/png": "[encoded data removed]",
            "text/plain": [
              "<Figure size 1080x216 with 1 Axes>"
            ]
          },
          "metadata": {
            "tags": []
          }
        }
      ]
    },
    {
      "metadata": {
        "id": "ggGaWKlF-lpd",
        "colab_type": "text"
      },
      "cell_type": "markdown",
      "source": [
        "### The action potentials are usually the interesting part.  When do they occur?"
      ]
    },
    {
      "metadata": {
        "id": "XVzzYAeD-lpd",
        "colab_type": "code",
        "outputId": "5656c871-50b5-4c6a-d5dd-dc28061df753",
        "colab": {
          "base_uri": "https://localhost:8080/",
          "height": 155
        }
      },
      "cell_type": "code",
      "source": [
        "from scipy.signal import find_peaks\n",
        "# Find the peak locations and heights, for peaks that go above 0\n",
        "spike_times, spike_amplitudes = find_peaks(df['response'], height=0)\n",
        "\n",
        "# Information about the extracted spike times\n",
        "print(\"There are %d spikes in this sweep\" % len(spike_times))\n",
        "spike_times * dt"
      ],
      "execution_count": 0,
      "outputs": [
        {
          "output_type": "stream",
          "text": [
            "There are 49 spikes in this sweep\n"
          ],
          "name": "stdout"
        },
        {
          "output_type": "execute_result",
          "data": {
            "text/plain": [
              "array([1.03026, 1.03426, 1.03956, 1.04736, 1.06424, 1.08444, 1.10614,\n",
              "       1.12488, 1.144  , 1.16518, 1.1837 , 1.20368, 1.22192, 1.24414,\n",
              "       1.26428, 1.28304, 1.30318, 1.32404, 1.34618, 1.366  , 1.3886 ,\n",
              "       1.40694, 1.428  , 1.4482 , 1.46882, 1.49074, 1.51298, 1.5337 ,\n",
              "       1.55516, 1.57616, 1.59872, 1.61998, 1.6413 , 1.6605 , 1.68358,\n",
              "       1.7084 , 1.72884, 1.74988, 1.77064, 1.79374, 1.81562, 1.8394 ,\n",
              "       1.86094, 1.88338, 1.90632, 1.92776, 1.95044, 1.9735 , 1.9985 ]) * s"
            ]
          },
          "metadata": {
            "tags": []
          },
          "execution_count": 24
        }
      ]
    },
    {
      "metadata": {
        "id": "1dNDM2xU-lpj",
        "colab_type": "text"
      },
      "cell_type": "markdown",
      "source": [
        "### What is the purpose of this sweep?  Are there others like it?"
      ]
    },
    {
      "metadata": {
        "id": "01gBwXFH-lpk",
        "colab_type": "code",
        "outputId": "df95331f-65ad-4f11-f550-a0586fa6a789",
        "colab": {
          "base_uri": "https://localhost:8080/",
          "height": 395
        }
      },
      "cell_type": "code",
      "source": [
        "parameters[my_sweep_number]\n"
      ],
      "execution_count": 0,
      "outputs": [
        {
          "output_type": "execute_result",
          "data": {
            "text/plain": [
              "{'bridge_balance_mohm': 10.7448110580444,\n",
              " 'id': 643632225,\n",
              " 'leak_pa': -6.432936668396,\n",
              " 'num_spikes': 30,\n",
              " 'peak_deflection': None,\n",
              " 'post_noise_rms_mv': 0.0318580716848373,\n",
              " 'post_vm_mv': -73.4478149414062,\n",
              " 'pre_noise_rms_mv': 0.0392096601426601,\n",
              " 'pre_vm_mv': -73.2483520507812,\n",
              " 'slow_noise_rms_mv': 0.220357805490494,\n",
              " 'slow_vm_mv': -73.2483520507812,\n",
              " 'specimen_id': 643625553,\n",
              " 'stimulus_absolute_amplitude': 129.99999687846,\n",
              " 'stimulus_description': 'C1LSFINEST150112[0]',\n",
              " 'stimulus_duration': 0.99998,\n",
              " 'stimulus_interval': None,\n",
              " 'stimulus_name': 'Long Square',\n",
              " 'stimulus_relative_amplitude': 10.0,\n",
              " 'stimulus_start_time': 1.02,\n",
              " 'stimulus_units': 'pA',\n",
              " 'sweep_number': 45,\n",
              " 'vm_delta_mv': 0.199462890625}"
            ]
          },
          "metadata": {
            "tags": []
          },
          "execution_count": 31
        }
      ]
    },
    {
      "metadata": {
        "id": "Xo39apPE-lpr",
        "colab_type": "code",
        "outputId": "457e12fb-8946-449d-d87e-a2ab44b81ad6",
        "colab": {
          "base_uri": "https://localhost:8080/",
          "height": 34
        }
      },
      "cell_type": "code",
      "source": [
        "my_sweep_type = parameters[my_sweep_number]['stimulus_name']\n",
        "my_sweep_type\n"
      ],
      "execution_count": 0,
      "outputs": [
        {
          "output_type": "execute_result",
          "data": {
            "text/plain": [
              "'Long Square'"
            ]
          },
          "metadata": {
            "tags": []
          },
          "execution_count": 35
        }
      ]
    },
    {
      "metadata": {
        "id": "CSV0T8vM-lpv",
        "colab_type": "text"
      },
      "cell_type": "markdown",
      "source": [
        "### Find the others like it"
      ]
    },
    {
      "metadata": {
        "id": "oTNes-7z-lpw",
        "colab_type": "code",
        "outputId": "3af28c7c-a10e-41ac-c147-7ddfb08d0ea7",
        "colab": {}
      },
      "cell_type": "code",
      "source": [
        "n_sweeps = len(parameters)\n",
        "my_sweep_type_indices = []\n",
        "for i in range(n_sweeps):\n",
        "    if parameters[i]['stimulus_name'] == my_sweep_type:\n",
        "        my_sweep_type_indices.append(i)\n",
        "    \n",
        "my_sweep_type_indices"
      ],
      "execution_count": 0,
      "outputs": [
        {
          "output_type": "execute_result",
          "data": {
            "text/plain": [
              "[18,\n",
              " 19,\n",
              " 20,\n",
              " 21,\n",
              " 22,\n",
              " 23,\n",
              " 24,\n",
              " 25,\n",
              " 26,\n",
              " 27,\n",
              " 28,\n",
              " 29,\n",
              " 30,\n",
              " 31,\n",
              " 32,\n",
              " 33,\n",
              " 34,\n",
              " 35,\n",
              " 36,\n",
              " 37,\n",
              " 38]"
            ]
          },
          "metadata": {
            "tags": []
          },
          "execution_count": 18
        }
      ]
    },
    {
      "metadata": {
        "id": "SNCjc0Rc-lp2",
        "colab_type": "text"
      },
      "cell_type": "markdown",
      "source": [
        "### Put all the spikes from all of those sweeps in a big list"
      ]
    },
    {
      "metadata": {
        "id": "v18y0wL4-lp5",
        "colab_type": "code",
        "outputId": "e05c375f-72b3-4d10-b061-16d88995b45f",
        "colab": {}
      },
      "cell_type": "code",
      "source": [
        "all_spike_times = []\n",
        "for i in my_sweep_type_indices: # Iterate over all the sweep numbers that have \n",
        "                                    # the kind of sweep we want\n",
        "    try: # Try to find that sweep in the list of recordings\n",
        "        my_sweep = recordings.get_sweep(i) # Get sweep number \"i\"\n",
        "    except: # Sometimes it isn't there, and we won't ask questions\n",
        "        pass\n",
        "    response = (my_sweep['response'] * V).rescale('mV') # Extract the response from this sweep\n",
        "    spike_times, spike_amplitudes = find_peaks(response, height=0) # Find the spike times\n",
        "    all_spike_times += list(spike_times * dt) # Add these spike times (with proper units)\n",
        "all_spike_times[:25] # First 25 spikes found across the whole dataset"
      ],
      "execution_count": 0,
      "outputs": [
        {
          "output_type": "execute_result",
          "data": {
            "text/plain": [
              "[array(1.03026) * s,\n",
              " array(1.03426) * s,\n",
              " array(1.03956) * s,\n",
              " array(1.04736) * s,\n",
              " array(1.06424) * s,\n",
              " array(1.08444) * s,\n",
              " array(1.10614) * s,\n",
              " array(1.12488) * s,\n",
              " array(1.144) * s,\n",
              " array(1.16518) * s,\n",
              " array(1.1837) * s,\n",
              " array(1.20368) * s,\n",
              " array(1.22192) * s,\n",
              " array(1.24414) * s,\n",
              " array(1.26428) * s,\n",
              " array(1.28304) * s,\n",
              " array(1.30318) * s,\n",
              " array(1.32404) * s,\n",
              " array(1.34618) * s,\n",
              " array(1.366) * s,\n",
              " array(1.3886) * s,\n",
              " array(1.40694) * s,\n",
              " array(1.428) * s,\n",
              " array(1.4482) * s,\n",
              " array(1.46882) * s]"
            ]
          },
          "metadata": {
            "tags": []
          },
          "execution_count": 19
        }
      ]
    },
    {
      "metadata": {
        "id": "DVbIO0Y4-lp-",
        "colab_type": "text"
      },
      "cell_type": "markdown",
      "source": [
        "### Make a peri-stimulus spike time histogram (STH) to characterize the response of the cell to that kind of stimulus"
      ]
    },
    {
      "metadata": {
        "id": "hPi5gfDh-lqA",
        "colab_type": "code",
        "outputId": "2670d540-316a-44f5-9fd9-fd5e67f6f7e2",
        "colab": {}
      },
      "cell_type": "code",
      "source": [
        "plt.figure(figsize=(12,8))\n",
        "plt.hist(all_spike_times, bins=25);\n",
        "plt.xlabel('Time (s)')\n",
        "plt.ylabel('# of spikes observed')\n",
        "plt.xlim(0.5,2.5);"
      ],
      "execution_count": 0,
      "outputs": [
        {
          "output_type": "display_data",
          "data": {
            "image/png": "[encoded data removed]",
            "text/plain": [
              "<Figure size 864x576 with 1 Axes>"
            ]
          },
          "metadata": {
            "tags": [],
            "needs_background": "light"
          }
        }
      ]
    },
    {
      "metadata": {
        "id": "DYH3RvHv-lqE",
        "colab_type": "text"
      },
      "cell_type": "markdown",
      "source": [
        "### This behavior is one of many types"
      ]
    },
    {
      "metadata": {
        "id": "rGdcCVZk-lqF",
        "colab_type": "text"
      },
      "cell_type": "markdown",
      "source": [
        "![izhikevich zoo](https://www.izhikevich.org/publications/figure1.gif)"
      ]
    },
    {
      "metadata": {
        "id": "WXTVR8Zj-lqG",
        "colab_type": "text"
      },
      "cell_type": "markdown",
      "source": [
        "### Simulation of the same phenomenon (for math people, or people who prefer fake things to real things)\n",
        "#### Optional, skip if this is not you"
      ]
    },
    {
      "metadata": {
        "id": "j4DksuqW-lqH",
        "colab_type": "code",
        "outputId": "8345fda3-5a26-43ac-ee61-982f06d3ab38",
        "colab": {
          "base_uri": "https://localhost:8080/",
          "height": 329
        }
      },
      "cell_type": "code",
      "source": [
        "# Install the Brian2 simulator (because Brian1 just won't cut it)\n",
        "!pip install brian2"
      ],
      "execution_count": 0,
      "outputs": [
        {
          "output_type": "stream",
          "text": [
            "Collecting brian2\n",
            "\u001b[?25l  Downloading https://files.pythonhosted.org/packages/c1/11/a67236633cf3cd884235dfc24422dc6bf35280888dbf724c21df7799d206/Brian2-2.2.1.tar.gz (1.6MB)\n",
            "\u001b[K    100% |████████████████████████████████| 1.6MB 15.5MB/s \n",
            "\u001b[?25hRequirement already satisfied: numpy>=1.10 in /usr/local/lib/python3.6/dist-packages (from brian2) (1.14.6)\n",
            "Requirement already satisfied: cython>=0.29 in /usr/local/lib/python3.6/dist-packages (from brian2) (0.29.2)\n",
            "Requirement already satisfied: sympy!=1.1.0,>=0.7.6 in /usr/local/lib/python3.6/dist-packages (from brian2) (1.1.1)\n",
            "Requirement already satisfied: pyparsing in /usr/local/lib/python3.6/dist-packages (from brian2) (2.3.1)\n",
            "Requirement already satisfied: jinja2>=2.7 in /usr/local/lib/python3.6/dist-packages (from brian2) (2.10)\n",
            "Requirement already satisfied: setuptools>=21 in /usr/local/lib/python3.6/dist-packages (from brian2) (40.6.3)\n",
            "Requirement already satisfied: mpmath>=0.19 in /usr/local/lib/python3.6/dist-packages (from sympy!=1.1.0,>=0.7.6->brian2) (1.1.0)\n",
            "Requirement already satisfied: MarkupSafe>=0.23 in /usr/local/lib/python3.6/dist-packages (from jinja2>=2.7->brian2) (1.1.0)\n",
            "Building wheels for collected packages: brian2\n",
            "  Running setup.py bdist_wheel for brian2 ... \u001b[?25l-\b \b\\\b \b|\b \b/\b \b-\b \b\\\b \b|\b \b/\b \b-\b \b\\\b \bdone\n",
            "\u001b[?25h  Stored in directory: /root/.cache/pip/wheels/2f/f8/b1/a51ad04c803031d9f580f3b390204a0ec4fb15881edd06203a\n",
            "Successfully built brian2\n",
            "Installing collected packages: brian2\n",
            "Successfully installed brian2-2.2.1\n"
          ],
          "name": "stdout"
        }
      ]
    },
    {
      "metadata": {
        "id": "GFOL4Lsg-lqL",
        "colab_type": "code",
        "colab": {}
      },
      "cell_type": "code",
      "source": [
        "# Importing functions and units from the Brian2 library\n",
        "from brian2 import Equations, start_scope, run, NeuronGroup, Synapses, StateMonitor, SpikeMonitor\n",
        "from brian2 import ms, second # units of time\n",
        "from brian2 import ufarad # units of capacitance\n",
        "from brian2 import siemens, msiemens, nS # units of conductance\n",
        "from brian2 import mV # units of voltage \n",
        "from brian2 import umetre, cm # units of length"
      ],
      "execution_count": 0,
      "outputs": []
    },
    {
      "metadata": {
        "id": "o_SlXCZ5-lqP",
        "colab_type": "code",
        "outputId": "fc1711f1-c7f6-4acb-9780-260b64e92b91",
        "colab": {}
      },
      "cell_type": "code",
      "source": [
        "start_scope() # Start a new simulation\n",
        "\n",
        "# Parameters to describe the size and electrical properties of the cell\n",
        "area = 20000*umetre**2\n",
        "Cm = (1*ufarad*cm**-2) * area\n",
        "gl = (5e-5*siemens*cm**-2) * area\n",
        "El = -60*mV\n",
        "EK = -90*mV\n",
        "ENa = 50*mV\n",
        "g_na = (100*msiemens*cm**-2) * area\n",
        "g_kd = (30*msiemens*cm**-2) * area\n",
        "VT = -63*mV\n",
        "\n",
        "# Time constants to describe how synaptic currents decay\n",
        "taue = 5*ms\n",
        "taui = 10*ms\n",
        "\n",
        "# Reversal potentials (the electromotive driving force for each type of ion, basically)\n",
        "Ee = 0*mV\n",
        "Ei = -80*mV\n",
        "we = 6*nS  # excitatory synaptic weight\n",
        "wi = 67*nS  # inhibitory synaptic weight\n",
        "\n",
        "# The model (as a set of ODEs)\n",
        "eqs = Equations('''\n",
        "dv/dt = (gl*(El-v)+ge*(Ee-v)+gi*(Ei-v)-\n",
        "         g_na*(m*m*m)*h*(v-ENa)-\n",
        "         g_kd*(n*n*n*n)*(v-EK))/Cm : volt\n",
        "dm/dt = alpha_m*(1-m)-beta_m*m : 1\n",
        "dn/dt = alpha_n*(1-n)-beta_n*n : 1\n",
        "dh/dt = alpha_h*(1-h)-beta_h*h : 1\n",
        "dge/dt = -ge*(1./taue) : siemens\n",
        "dgi/dt = -gi*(1./taui) : siemens\n",
        "alpha_m = 0.32*(mV**-1)*(13*mV-v+VT)/\n",
        "         (exp((13*mV-v+VT)/(4*mV))-1.)/ms : Hz\n",
        "beta_m = 0.28*(mV**-1)*(v-VT-40*mV)/\n",
        "        (exp((v-VT-40*mV)/(5*mV))-1)/ms : Hz\n",
        "alpha_h = 0.128*exp((17*mV-v+VT)/(18*mV))/ms : Hz\n",
        "beta_h = 4./(1+exp((40*mV-v+VT)/(5*mV)))/ms : Hz\n",
        "alpha_n = 0.032*(mV**-1)*(15*mV-v+VT)/\n",
        "         (exp((15*mV-v+VT)/(5*mV))-1.)/ms : Hz\n",
        "beta_n = .5*exp((10*mV-v+VT)/(40*mV))/ms : Hz\n",
        "''')\n",
        "\n",
        "# The network, describing how each of these (otherwise identical) neurons is connected to each other\n",
        "n_neurons = 40\n",
        "P = NeuronGroup(n_neurons, model=eqs, threshold='v>-20*mV', refractory=3*ms,\n",
        "                method='exponential_euler')\n",
        "n_excitatory = int(n_neurons * 0.8)\n",
        "Pe = P[:n_excitatory]\n",
        "Pi = P[n_excitatory:]\n",
        "Ce = Synapses(Pe, P, on_pre='ge+=we')\n",
        "Ci = Synapses(Pi, P, on_pre='gi+=wi')\n",
        "Ce.connect(p=0.02)\n",
        "Ci.connect(p=0.02)\n",
        "\n",
        "# Initial conditions for some of the state variables, including random numbers\n",
        "P.v = 'El + (randn() * 5 - 5)*mV'\n",
        "P.ge = '(randn() * 1.5 + 4) * 10.*nS'\n",
        "P.gi = '(randn() * 12 + 20) * 10.*nS'\n",
        "\n",
        "# Run this simulation and record both the membrane potential and the action potential (spike) times of the neurons \n",
        "traces = StateMonitor(P, 'v', record=range(n_neurons))\n",
        "spikes = SpikeMonitor(P)\n",
        "run(1 * second, report='text')"
      ],
      "execution_count": 0,
      "outputs": [
        {
          "output_type": "stream",
          "text": [
            "unable to execute 'gcc': No such file or directory\n",
            "WARNING    Cannot use Cython, a test compilation failed: command 'gcc' failed with exit status 1 (CompileError) [brian2.codegen.runtime.cython_rt.cython_rt.failed_compile_test]\n",
            "INFO       Cannot use compiled code, falling back to the numpy code generation target. Note that this will likely be slower than using compiled code. Set the code generation to numpy manually to avoid this message:\n",
            "prefs.codegen.target = \"numpy\" [brian2.devices.device.codegen_fallback]\n"
          ],
          "name": "stderr"
        },
        {
          "output_type": "stream",
          "text": [
            "Starting simulation at t=0. s for a duration of 1. s\n",
            "1.0 (100%) simulated in 4s\n"
          ],
          "name": "stdout"
        }
      ]
    },
    {
      "metadata": {
        "id": "BRra6jUV-lqT",
        "colab_type": "code",
        "outputId": "ce53d3eb-e5d8-44c8-ac68-ece2225d1c4b",
        "colab": {}
      },
      "cell_type": "code",
      "source": [
        "# Plot the output for two randomly chosen neurons\n",
        "# The results are random in each simulation (see above), so if you don't like the ones here, \n",
        "# pick different neuron indices (instead of 11 and 31), or run the simulation again.  \n",
        "plt.figure(figsize=(10,5))\n",
        "cell_indices = [11, 31]\n",
        "for i in cell_indices:\n",
        "    plt.plot(traces.t/ms, traces[i].v/mV, label=\"Cell %d\" % i)\n",
        "plt.xlabel('time (ms)')\n",
        "plt.ylabel('Membrane Potential (mV)');\n",
        "plt.legend()"
      ],
      "execution_count": 0,
      "outputs": [
        {
          "output_type": "execute_result",
          "data": {
            "text/plain": [
              "<matplotlib.legend.Legend at 0x7f6ac3821940>"
            ]
          },
          "metadata": {
            "tags": []
          },
          "execution_count": 24
        },
        {
          "output_type": "display_data",
          "data": {
            "image/png": "[encoded data removed]",
            "text/plain": [
              "<Figure size 720x360 with 1 Axes>"
            ]
          },
          "metadata": {
            "tags": [],
            "needs_background": "light"
          }
        }
      ]
    },
    {
      "metadata": {
        "id": "rgrSYKLV-lqa",
        "colab_type": "code",
        "outputId": "6100dbde-04cc-44e9-a6e3-8d61161acbd4",
        "colab": {}
      },
      "cell_type": "code",
      "source": [
        "# The spike times (if any) for the first of those cells.  \n",
        "spikes.spike_trains()[cell_indices[0]]/ms"
      ],
      "execution_count": 0,
      "outputs": [
        {
          "output_type": "execute_result",
          "data": {
            "text/plain": [
              "array([6.3])"
            ]
          },
          "metadata": {
            "tags": []
          },
          "execution_count": 25
        }
      ]
    }
  ]
}